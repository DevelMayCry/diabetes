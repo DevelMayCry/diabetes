{
 "cells": [
  {
   "cell_type": "markdown",
   "metadata": {},
   "source": [
    "## 导入必要的工具包"
   ]
  },
  {
   "cell_type": "code",
   "execution_count": 383,
   "metadata": {},
   "outputs": [],
   "source": [
    "# 数据读取及基本处理\n",
    "import pandas as pd\n",
    "import numpy as np\n",
    "\n",
    "#查看数据分布是否对称/计算斜度\n",
    "from scipy.stats import skew\n",
    "\n",
    "#可视化\n",
    "import matplotlib.pyplot as plt\n",
    "import seaborn as sns\n",
    "\n",
    "#将数据分割训练数据与测试数据\n",
    "from sklearn.cross_validation import train_test_split\n",
    "\n",
    "#用来显示图片\n",
    "from IPython.display import display\n",
    "\n",
    "# pandas浮点数据输出禁用科学计数法的方式\n",
    "pd.set_option('display.float_format', lambda x: '%.3f' % x)\n",
    "%matplotlib inline"
   ]
  },
  {
   "cell_type": "markdown",
   "metadata": {},
   "source": [
    "## 读入数据\n",
    "\n",
    "数据预处理对训练数据和测试数据需进行同样处理，因此将二者一起读入"
   ]
  },
  {
   "cell_type": "code",
   "execution_count": 384,
   "metadata": {},
   "outputs": [
    {
     "data": {
      "text/html": [
       "<div>\n",
       "<style scoped>\n",
       "    .dataframe tbody tr th:only-of-type {\n",
       "        vertical-align: middle;\n",
       "    }\n",
       "\n",
       "    .dataframe tbody tr th {\n",
       "        vertical-align: top;\n",
       "    }\n",
       "\n",
       "    .dataframe thead th {\n",
       "        text-align: right;\n",
       "    }\n",
       "</style>\n",
       "<table border=\"1\" class=\"dataframe\">\n",
       "  <thead>\n",
       "    <tr style=\"text-align: right;\">\n",
       "      <th></th>\n",
       "      <th>Pregnancies</th>\n",
       "      <th>Glucose</th>\n",
       "      <th>BloodPressure</th>\n",
       "      <th>SkinThickness</th>\n",
       "      <th>Insulin</th>\n",
       "      <th>BMI</th>\n",
       "      <th>DiabetesPedigreeFunction</th>\n",
       "      <th>Age</th>\n",
       "      <th>Outcome</th>\n",
       "    </tr>\n",
       "  </thead>\n",
       "  <tbody>\n",
       "    <tr>\n",
       "      <th>0</th>\n",
       "      <td>6</td>\n",
       "      <td>148</td>\n",
       "      <td>72</td>\n",
       "      <td>35</td>\n",
       "      <td>0</td>\n",
       "      <td>33.600</td>\n",
       "      <td>0.627</td>\n",
       "      <td>50</td>\n",
       "      <td>1</td>\n",
       "    </tr>\n",
       "    <tr>\n",
       "      <th>1</th>\n",
       "      <td>1</td>\n",
       "      <td>85</td>\n",
       "      <td>66</td>\n",
       "      <td>29</td>\n",
       "      <td>0</td>\n",
       "      <td>26.600</td>\n",
       "      <td>0.351</td>\n",
       "      <td>31</td>\n",
       "      <td>0</td>\n",
       "    </tr>\n",
       "    <tr>\n",
       "      <th>2</th>\n",
       "      <td>8</td>\n",
       "      <td>183</td>\n",
       "      <td>64</td>\n",
       "      <td>0</td>\n",
       "      <td>0</td>\n",
       "      <td>23.300</td>\n",
       "      <td>0.672</td>\n",
       "      <td>32</td>\n",
       "      <td>1</td>\n",
       "    </tr>\n",
       "    <tr>\n",
       "      <th>3</th>\n",
       "      <td>1</td>\n",
       "      <td>89</td>\n",
       "      <td>66</td>\n",
       "      <td>23</td>\n",
       "      <td>94</td>\n",
       "      <td>28.100</td>\n",
       "      <td>0.167</td>\n",
       "      <td>21</td>\n",
       "      <td>0</td>\n",
       "    </tr>\n",
       "    <tr>\n",
       "      <th>4</th>\n",
       "      <td>0</td>\n",
       "      <td>137</td>\n",
       "      <td>40</td>\n",
       "      <td>35</td>\n",
       "      <td>168</td>\n",
       "      <td>43.100</td>\n",
       "      <td>2.288</td>\n",
       "      <td>33</td>\n",
       "      <td>1</td>\n",
       "    </tr>\n",
       "  </tbody>\n",
       "</table>\n",
       "</div>"
      ],
      "text/plain": [
       "   Pregnancies  Glucose  BloodPressure  SkinThickness  Insulin    BMI  \\\n",
       "0            6      148             72             35        0 33.600   \n",
       "1            1       85             66             29        0 26.600   \n",
       "2            8      183             64              0        0 23.300   \n",
       "3            1       89             66             23       94 28.100   \n",
       "4            0      137             40             35      168 43.100   \n",
       "\n",
       "   DiabetesPedigreeFunction  Age  Outcome  \n",
       "0                     0.627   50        1  \n",
       "1                     0.351   31        0  \n",
       "2                     0.672   32        1  \n",
       "3                     0.167   21        0  \n",
       "4                     2.288   33        1  "
      ]
     },
     "execution_count": 384,
     "metadata": {},
     "output_type": "execute_result"
    }
   ],
   "source": [
    "# 读取训练集的数据\n",
    "train = pd.read_csv(\"diabetes.csv\")\n",
    "#显示头5行信息\n",
    "train.head()"
   ]
  },
  {
   "cell_type": "markdown",
   "metadata": {},
   "source": [
    "Pregnancies : 怀孕次数                                                                                \n",
    "Glucose:口服葡萄糖耐受试验中，2小时的血浆葡萄糖浓度                                                             \n",
    "BloodPressure：舒张压（mm Hg）                                                                           \n",
    "SkinThickness：三头肌皮肤褶层厚度(mm)                                                                      \n",
    "Insulin：2小时血清胰岛素含量                                                                            \n",
    "BMI：体重指数                                                                                      \n",
    "DiabetesPedigreeFunction：糖尿病家族史                                                                     \n",
    "Age：年龄                                                                                       \n",
    "Outcome  出现糖尿病为1，否则为0"
   ]
  },
  {
   "cell_type": "markdown",
   "metadata": {},
   "source": [
    "## 数据探索"
   ]
  },
  {
   "cell_type": "markdown",
   "metadata": {},
   "source": [
    "#### 查看读入数据的信息"
   ]
  },
  {
   "cell_type": "code",
   "execution_count": 385,
   "metadata": {},
   "outputs": [
    {
     "name": "stdout",
     "output_type": "stream",
     "text": [
      "<class 'pandas.core.frame.DataFrame'>\n",
      "RangeIndex: 768 entries, 0 to 767\n",
      "Data columns (total 9 columns):\n",
      "Pregnancies                 768 non-null int64\n",
      "Glucose                     768 non-null int64\n",
      "BloodPressure               768 non-null int64\n",
      "SkinThickness               768 non-null int64\n",
      "Insulin                     768 non-null int64\n",
      "BMI                         768 non-null float64\n",
      "DiabetesPedigreeFunction    768 non-null float64\n",
      "Age                         768 non-null int64\n",
      "Outcome                     768 non-null int64\n",
      "dtypes: float64(2), int64(7)\n",
      "memory usage: 54.1 KB\n"
     ]
    }
   ],
   "source": [
    "train.info()"
   ]
  },
  {
   "cell_type": "markdown",
   "metadata": {},
   "source": [
    "没有发现空值"
   ]
  },
  {
   "cell_type": "markdown",
   "metadata": {},
   "source": [
    "#### 查看描述信息"
   ]
  },
  {
   "cell_type": "code",
   "execution_count": 386,
   "metadata": {},
   "outputs": [
    {
     "data": {
      "text/html": [
       "<div>\n",
       "<style scoped>\n",
       "    .dataframe tbody tr th:only-of-type {\n",
       "        vertical-align: middle;\n",
       "    }\n",
       "\n",
       "    .dataframe tbody tr th {\n",
       "        vertical-align: top;\n",
       "    }\n",
       "\n",
       "    .dataframe thead th {\n",
       "        text-align: right;\n",
       "    }\n",
       "</style>\n",
       "<table border=\"1\" class=\"dataframe\">\n",
       "  <thead>\n",
       "    <tr style=\"text-align: right;\">\n",
       "      <th></th>\n",
       "      <th>Pregnancies</th>\n",
       "      <th>Glucose</th>\n",
       "      <th>BloodPressure</th>\n",
       "      <th>SkinThickness</th>\n",
       "      <th>Insulin</th>\n",
       "      <th>BMI</th>\n",
       "      <th>DiabetesPedigreeFunction</th>\n",
       "      <th>Age</th>\n",
       "      <th>Outcome</th>\n",
       "    </tr>\n",
       "  </thead>\n",
       "  <tbody>\n",
       "    <tr>\n",
       "      <th>count</th>\n",
       "      <td>768.000</td>\n",
       "      <td>768.000</td>\n",
       "      <td>768.000</td>\n",
       "      <td>768.000</td>\n",
       "      <td>768.000</td>\n",
       "      <td>768.000</td>\n",
       "      <td>768.000</td>\n",
       "      <td>768.000</td>\n",
       "      <td>768.000</td>\n",
       "    </tr>\n",
       "    <tr>\n",
       "      <th>mean</th>\n",
       "      <td>3.845</td>\n",
       "      <td>120.895</td>\n",
       "      <td>69.105</td>\n",
       "      <td>20.536</td>\n",
       "      <td>79.799</td>\n",
       "      <td>31.993</td>\n",
       "      <td>0.472</td>\n",
       "      <td>33.241</td>\n",
       "      <td>0.349</td>\n",
       "    </tr>\n",
       "    <tr>\n",
       "      <th>std</th>\n",
       "      <td>3.370</td>\n",
       "      <td>31.973</td>\n",
       "      <td>19.356</td>\n",
       "      <td>15.952</td>\n",
       "      <td>115.244</td>\n",
       "      <td>7.884</td>\n",
       "      <td>0.331</td>\n",
       "      <td>11.760</td>\n",
       "      <td>0.477</td>\n",
       "    </tr>\n",
       "    <tr>\n",
       "      <th>min</th>\n",
       "      <td>0.000</td>\n",
       "      <td>0.000</td>\n",
       "      <td>0.000</td>\n",
       "      <td>0.000</td>\n",
       "      <td>0.000</td>\n",
       "      <td>0.000</td>\n",
       "      <td>0.078</td>\n",
       "      <td>21.000</td>\n",
       "      <td>0.000</td>\n",
       "    </tr>\n",
       "    <tr>\n",
       "      <th>25%</th>\n",
       "      <td>1.000</td>\n",
       "      <td>99.000</td>\n",
       "      <td>62.000</td>\n",
       "      <td>0.000</td>\n",
       "      <td>0.000</td>\n",
       "      <td>27.300</td>\n",
       "      <td>0.244</td>\n",
       "      <td>24.000</td>\n",
       "      <td>0.000</td>\n",
       "    </tr>\n",
       "    <tr>\n",
       "      <th>50%</th>\n",
       "      <td>3.000</td>\n",
       "      <td>117.000</td>\n",
       "      <td>72.000</td>\n",
       "      <td>23.000</td>\n",
       "      <td>30.500</td>\n",
       "      <td>32.000</td>\n",
       "      <td>0.372</td>\n",
       "      <td>29.000</td>\n",
       "      <td>0.000</td>\n",
       "    </tr>\n",
       "    <tr>\n",
       "      <th>75%</th>\n",
       "      <td>6.000</td>\n",
       "      <td>140.250</td>\n",
       "      <td>80.000</td>\n",
       "      <td>32.000</td>\n",
       "      <td>127.250</td>\n",
       "      <td>36.600</td>\n",
       "      <td>0.626</td>\n",
       "      <td>41.000</td>\n",
       "      <td>1.000</td>\n",
       "    </tr>\n",
       "    <tr>\n",
       "      <th>max</th>\n",
       "      <td>17.000</td>\n",
       "      <td>199.000</td>\n",
       "      <td>122.000</td>\n",
       "      <td>99.000</td>\n",
       "      <td>846.000</td>\n",
       "      <td>67.100</td>\n",
       "      <td>2.420</td>\n",
       "      <td>81.000</td>\n",
       "      <td>1.000</td>\n",
       "    </tr>\n",
       "  </tbody>\n",
       "</table>\n",
       "</div>"
      ],
      "text/plain": [
       "       Pregnancies  Glucose  BloodPressure  SkinThickness  Insulin     BMI  \\\n",
       "count      768.000  768.000        768.000        768.000  768.000 768.000   \n",
       "mean         3.845  120.895         69.105         20.536   79.799  31.993   \n",
       "std          3.370   31.973         19.356         15.952  115.244   7.884   \n",
       "min          0.000    0.000          0.000          0.000    0.000   0.000   \n",
       "25%          1.000   99.000         62.000          0.000    0.000  27.300   \n",
       "50%          3.000  117.000         72.000         23.000   30.500  32.000   \n",
       "75%          6.000  140.250         80.000         32.000  127.250  36.600   \n",
       "max         17.000  199.000        122.000         99.000  846.000  67.100   \n",
       "\n",
       "       DiabetesPedigreeFunction     Age  Outcome  \n",
       "count                   768.000 768.000  768.000  \n",
       "mean                      0.472  33.241    0.349  \n",
       "std                       0.331  11.760    0.477  \n",
       "min                       0.078  21.000    0.000  \n",
       "25%                       0.244  24.000    0.000  \n",
       "50%                       0.372  29.000    0.000  \n",
       "75%                       0.626  41.000    1.000  \n",
       "max                       2.420  81.000    1.000  "
      ]
     },
     "execution_count": 386,
     "metadata": {},
     "output_type": "execute_result"
    }
   ],
   "source": [
    "#对训练集数据值型特征，用常用统计量观察其分布\n",
    "train.describe()"
   ]
  },
  {
   "cell_type": "code",
   "execution_count": 387,
   "metadata": {},
   "outputs": [
    {
     "data": {
      "image/png": "[encoded data removed]",
      "text/plain": [
       "<matplotlib.figure.Figure at 0x7fe8f4684f90>"
      ]
     },
     "metadata": {},
     "output_type": "display_data"
    }
   ],
   "source": [
    "#画出直方图  值是训练集的结果\n",
    "sns.countplot(train.Outcome);\n",
    "#定义x轴的名字\n",
    "pyplot.xlabel('Outcome');\n",
    "#定义y轴的名字\n",
    "pyplot.ylabel('Number of occurrences');"
   ]
  },
  {
   "cell_type": "markdown",
   "metadata": {},
   "source": [
    "给的样本不均匀"
   ]
  },
  {
   "cell_type": "markdown",
   "metadata": {},
   "source": [
    "## 特征编码"
   ]
  },
  {
   "cell_type": "code",
   "execution_count": 388,
   "metadata": {},
   "outputs": [],
   "source": [
    "#拿到结果\n",
    "y_train = train['Outcome']   #形式为0和1\n",
    "#从训练集中删除 Outcome这两项\n",
    "train = train.drop([\"Outcome\"], axis=1)\n",
    "# 随机采样20%的数据构建测试样本，其余作为训练样本\n",
    "x_train, x_test, y_train, y_test = train_test_split(train, y_train, random_state=33, test_size=0.2)\n",
    "#x_train  x轴的训练集\n",
    "#x_test   x轴的测试集\n",
    "#y_train  y轴的训练集\n",
    "#y_test   y轴的测试集\n",
    "#把训练集变成数组矩阵\n",
    "x_train = np.array(x_train)\n",
    "y_train = np.array(y_train).reshape((-1,1))\n",
    "#把测试集变成数组举证\n",
    "x_test = np.array(x_test)\n",
    "y_test = np.array(y_test).reshape((-1,1))"
   ]
  },
  {
   "cell_type": "markdown",
   "metadata": {},
   "source": [
    "## 数据预处理"
   ]
  },
  {
   "cell_type": "code",
   "execution_count": 389,
   "metadata": {},
   "outputs": [],
   "source": [
    "# 数据标准化\n",
    "from sklearn.preprocessing import StandardScaler\n",
    "\n",
    "# 分别初始化对特征和目标值的标准化器\n",
    "ss_X = StandardScaler()\n",
    "ss_y = StandardScaler()\n",
    "\n",
    "# 分别对训练和测试数据的特征以及目标值进行标准化处理\n",
    "X_train = ss_X.fit_transform(x_train)\n",
    "\n",
    "\n",
    "X_test = ss_y.fit_transform(x_test)\n"
   ]
  },
  {
   "cell_type": "markdown",
   "metadata": {},
   "source": [
    "## 正则化的 Logistic Regression及参数调优"
   ]
  },
  {
   "cell_type": "markdown",
   "metadata": {},
   "source": [
    "logistic回归的需要调整超参数有：C（正则系数，一般在log域（取log后的值）均匀设置候选参数）和正则函数penalty（L2/L1）                   \n",
    "目标函数为：J = sum(logloss(f(xi), yi)) + C* penalty                                                            \n",
    "在sklearn框架下，不同学习器的参数调整步骤相同：                                                               \n",
    "设置候选参数集合                                                                                    \n",
    "调用GridSearchCV                                                                                    \n",
    "调用fit"
   ]
  },
  {
   "cell_type": "code",
   "execution_count": 390,
   "metadata": {},
   "outputs": [
    {
     "data": {
      "text/plain": [
       "GridSearchCV(cv=5, error_score='raise',\n",
       "       estimator=LogisticRegression(C=1.0, class_weight=None, dual=False, fit_intercept=True,\n",
       "          intercept_scaling=1, max_iter=100, multi_class='ovr', n_jobs=1,\n",
       "          penalty='l2', random_state=None, solver='liblinear', tol=0.0001,\n",
       "          verbose=0, warm_start=False),\n",
       "       fit_params=None, iid=True, n_jobs=1,\n",
       "       param_grid={'penalty': ['l1', 'l2'], 'C': [0.001, 0.01, 0.1, 1, 10, 100, 1000]},\n",
       "       pre_dispatch='2*n_jobs', refit=True, return_train_score='warn',\n",
       "       scoring='neg_log_loss', verbose=0)"
      ]
     },
     "execution_count": 390,
     "metadata": {},
     "output_type": "execute_result"
    }
   ],
   "source": [
    "#导入仪交叉验证\n",
    "from sklearn.model_selection import GridSearchCV\n",
    "#导入逻辑回归\n",
    "from sklearn.linear_model import LogisticRegression\n",
    "#定义正则函数\n",
    "penaltys = ['l1','l2']\n",
    "#定义网格的搜索范围\n",
    "Cs = [0.001, 0.01, 0.1, 1, 10, 100, 1000]\n",
    "#把正则函数和网格的搜索范围变为以个字典\n",
    "tuned_parameters = dict(penalty = penaltys, C = Cs)\n",
    "#实例化逻辑回归对象\n",
    "lr_penalty= LogisticRegression()\n",
    "#进行交叉验证\n",
    "grid= GridSearchCV(lr_penalty, tuned_parameters,cv=5, scoring='neg_log_loss')\n",
    "#lr_penalty 逻辑归回对象\n",
    "#tuned_parameters  正则番薯和网格的搜索范围\n",
    "#cv=5  交叉验证的次数\n",
    "#scoring='neg_log_loss'  评分的标准  负log似然损失函数\n",
    "\n",
    "#训练数据  \n",
    "grid.fit(X_train,y_train)"
   ]
  },
  {
   "cell_type": "code",
   "execution_count": 391,
   "metadata": {},
   "outputs": [
    {
     "data": {
      "text/plain": [
       "{'mean_fit_time': array([0.00085783, 0.0007792 , 0.00067916, 0.00075078, 0.00092545,\n",
       "        0.00087762, 0.00100336, 0.00143499, 0.00106459, 0.00099778,\n",
       "        0.00098076, 0.00105247, 0.00088816, 0.00087738]),\n",
       " 'mean_score_time': array([0.00066676, 0.00056047, 0.000668  , 0.00054922, 0.00050755,\n",
       "        0.00053926, 0.00057702, 0.00092034, 0.00069294, 0.00056758,\n",
       "        0.00048761, 0.00049796, 0.00052485, 0.00051198]),\n",
       " 'mean_test_score': array([-0.69314718, -0.64214833, -0.6721329 , -0.52844007, -0.48659146,\n",
       "        -0.47999943, -0.48043621, -0.48017599, -0.4809005 , -0.48086932,\n",
       "        -0.4809517 , -0.48095123, -0.48095796, -0.48095956]),\n",
       " 'mean_train_score': array([-0.69314718, -0.6412946 , -0.67079105, -0.52380684, -0.47502501,\n",
       "        -0.46674403, -0.46228782, -0.46214818, -0.46206766, -0.46206619,\n",
       "        -0.46206531, -0.4620653 , -0.46206529, -0.46206529]),\n",
       " 'param_C': masked_array(data=[0.001, 0.001, 0.01, 0.01, 0.1, 0.1, 1, 1, 10, 10, 100,\n",
       "                    100, 1000, 1000],\n",
       "              mask=[False, False, False, False, False, False, False, False,\n",
       "                    False, False, False, False, False, False],\n",
       "        fill_value='?',\n",
       "             dtype=object),\n",
       " 'param_penalty': masked_array(data=['l1', 'l2', 'l1', 'l2', 'l1', 'l2', 'l1', 'l2', 'l1',\n",
       "                    'l2', 'l1', 'l2', 'l1', 'l2'],\n",
       "              mask=[False, False, False, False, False, False, False, False,\n",
       "                    False, False, False, False, False, False],\n",
       "        fill_value='?',\n",
       "             dtype=object),\n",
       " 'params': [{'C': 0.001, 'penalty': 'l1'},\n",
       "  {'C': 0.001, 'penalty': 'l2'},\n",
       "  {'C': 0.01, 'penalty': 'l1'},\n",
       "  {'C': 0.01, 'penalty': 'l2'},\n",
       "  {'C': 0.1, 'penalty': 'l1'},\n",
       "  {'C': 0.1, 'penalty': 'l2'},\n",
       "  {'C': 1, 'penalty': 'l1'},\n",
       "  {'C': 1, 'penalty': 'l2'},\n",
       "  {'C': 10, 'penalty': 'l1'},\n",
       "  {'C': 10, 'penalty': 'l2'},\n",
       "  {'C': 100, 'penalty': 'l1'},\n",
       "  {'C': 100, 'penalty': 'l2'},\n",
       "  {'C': 1000, 'penalty': 'l1'},\n",
       "  {'C': 1000, 'penalty': 'l2'}],\n",
       " 'rank_test_score': array([14, 12, 13, 11, 10,  1,  3,  2,  5,  4,  7,  6,  8,  9],\n",
       "       dtype=int32),\n",
       " 'split0_test_score': array([-0.69314718, -0.64371675, -0.66946739, -0.52816851, -0.48618087,\n",
       "        -0.4678555 , -0.46345868, -0.46129644, -0.46108639, -0.46088502,\n",
       "        -0.46086592, -0.4608487 , -0.46084451, -0.46084513]),\n",
       " 'split0_train_score': array([-0.69314718, -0.64085132, -0.66189542, -0.52529099, -0.4782375 ,\n",
       "        -0.47085398, -0.46684281, -0.46669378, -0.46662381, -0.46662226,\n",
       "        -0.46662151, -0.46662149, -0.46662149, -0.46662148]),\n",
       " 'split1_test_score': array([-0.69314718, -0.64113725, -0.67517494, -0.52518603, -0.47167716,\n",
       "        -0.47077815, -0.46426372, -0.46510588, -0.46463821, -0.46473286,\n",
       "        -0.4646889 , -0.46469927, -0.4646928 , -0.46469595]),\n",
       " 'split1_train_score': array([-0.69314718, -0.64188719, -0.67797602, -0.52532854, -0.47970339,\n",
       "        -0.47076994, -0.46692654, -0.46678157, -0.46671604, -0.4667146 ,\n",
       "        -0.46671389, -0.46671388, -0.46671388, -0.46671388]),\n",
       " 'split2_test_score': array([-0.69314718, -0.64575466, -0.6680453 , -0.5512625 , -0.54752992,\n",
       "        -0.54301469, -0.5646951 , -0.56426612, -0.56847914, -0.56834734,\n",
       "        -0.56879997, -0.56879096, -0.56883176, -0.5688357 ]),\n",
       " 'split2_train_score': array([-0.69314718, -0.63908575, -0.66162164, -0.5135644 , -0.45564328,\n",
       "        -0.44783203, -0.44194588, -0.44184498, -0.44173182, -0.44173047,\n",
       "        -0.44172921, -0.4417292 , -0.44172919, -0.44172919]),\n",
       " 'split3_test_score': array([-0.69314718, -0.63856226, -0.67581323, -0.50975335, -0.45503478,\n",
       "        -0.44706595, -0.44365962, -0.44377717, -0.44397779, -0.44400066,\n",
       "        -0.44402902, -0.4440332 , -0.44403549, -0.44403656]),\n",
       " 'split3_train_score': array([-0.69314718, -0.64333601, -0.67874616, -0.5309552 , -0.48382676,\n",
       "        -0.47509784, -0.4706665 , -0.47052445, -0.4704446 , -0.47044314,\n",
       "        -0.47044228, -0.47044226, -0.47044225, -0.47044225]),\n",
       " 'split4_test_score': array([-0.69314718, -0.64152376, -0.67221592, -0.52767402, -0.47216404,\n",
       "        -0.47104103, -0.46582415, -0.46617809, -0.46606124, -0.46612355,\n",
       "        -0.46611719, -0.4661268 , -0.46612799, -0.46612722]),\n",
       " 'split4_train_score': array([-0.69314718, -0.64131272, -0.67371601, -0.52389506, -0.47771414,\n",
       "        -0.46916638, -0.46505736, -0.46489609, -0.46482205, -0.46482048,\n",
       "        -0.46481965, -0.46481964, -0.46481963, -0.46481963]),\n",
       " 'std_fit_time': array([2.73664776e-04, 9.80888226e-05, 1.68505751e-04, 4.66016543e-05,\n",
       "        3.58114376e-04, 1.30206409e-04, 2.89211607e-04, 7.66715916e-04,\n",
       "        5.12597505e-05, 1.19356637e-04, 1.47414005e-04, 3.59749686e-04,\n",
       "        2.78741400e-05, 3.07469392e-05]),\n",
       " 'std_score_time': array([9.80246151e-05, 3.89647448e-05, 1.64746058e-04, 5.36132511e-05,\n",
       "        4.96305712e-05, 4.05649157e-05, 5.62300805e-05, 5.49800675e-04,\n",
       "        9.81771233e-05, 1.13355596e-04, 2.19481882e-05, 3.86957394e-05,\n",
       "        5.83138118e-05, 1.97427859e-05]),\n",
       " 'std_test_score': array([0.        , 0.00243715, 0.00305426, 0.0132657 , 0.03205821,\n",
       "        0.03276814, 0.04294177, 0.04285084, 0.04453541, 0.04448689,\n",
       "        0.04466589, 0.04466183, 0.0446783 , 0.04467945]),\n",
       " 'std_train_score': array([0.        , 0.00138524, 0.00757197, 0.00566626, 0.00992533,\n",
       "        0.00965834, 0.01033376, 0.01031565, 0.01033123, 0.01033118,\n",
       "        0.01033136, 0.01033136, 0.01033136, 0.01033136])}"
      ]
     },
     "execution_count": 391,
     "metadata": {},
     "output_type": "execute_result"
    }
   ],
   "source": [
    "#拿到最好的交叉验证结果\n",
    "grid.cv_results_"
   ]
  },
  {
   "cell_type": "code",
   "execution_count": 392,
   "metadata": {},
   "outputs": [
    {
     "name": "stdout",
     "output_type": "stream",
     "text": [
      "0.4799994349368312\n",
      "{'penalty': 'l2', 'C': 0.1}\n"
     ]
    }
   ],
   "source": [
    "#拿到最好的分数\n",
    "print(-grid.best_score_)\n",
    "#获取到最好的参数\n",
    "print(grid.best_params_)"
   ]
  },
  {
   "cell_type": "markdown",
   "metadata": {},
   "source": [
    "从上述可以知道   最佳的正则函数是l2  最好的参数是在0.1附近"
   ]
  },
  {
   "cell_type": "code",
   "execution_count": 393,
   "metadata": {},
   "outputs": [
    {
     "data": {
      "text/plain": [
       "GridSearchCV(cv=5, error_score='raise',\n",
       "       estimator=LogisticRegression(C=1.0, class_weight=None, dual=False, fit_intercept=True,\n",
       "          intercept_scaling=1, max_iter=100, multi_class='ovr', n_jobs=1,\n",
       "          penalty='l2', random_state=None, solver='liblinear', tol=0.0001,\n",
       "          verbose=0, warm_start=False),\n",
       "       fit_params=None, iid=True, n_jobs=1,\n",
       "       param_grid={'penalty': ['l2'], 'C': [0.06, 0.065, 0.06999999999999999, 0.07500000000000001, 0.08000000000000002, 0.085, 0.09000000000000001, 0.095, 0.1, 0.10500000000000001, 0.11000000000000001, 0.11499999999999999, 0.125, 0.13, 0.135, 0.13999999999999999]},\n",
       "       pre_dispatch='2*n_jobs', refit=True, return_train_score='warn',\n",
       "       scoring='neg_log_loss', verbose=0)"
      ]
     },
     "execution_count": 393,
     "metadata": {},
     "output_type": "execute_result"
    }
   ],
   "source": [
    "#定义正则函数\n",
    "penaltys = ['l2']\n",
    "#定义网格的搜索范围\n",
    "Cs = [0.1 * .6, 0.1 * .65, 0.1 * .7, 0.1 * .75, 0.1 * .8, 0.1 * .85, \n",
    "                          0.1 * .9, 0.1 * .95, 0.1, 0.1 * 1.05, 0.1 * 1.1, 0.1 * 1.15,\n",
    "                          0.1 * 1.25, 0.1 * 1.3, 0.1 * 1.35, 0.1 * 1.4]\n",
    "#把正则函数和网格的搜索范围变为以个字典\n",
    "tuned_parameters = dict(penalty = penaltys, C = Cs)\n",
    "#实例化逻辑回归对象\n",
    "lr_penalty= LogisticRegression()\n",
    "#进行交叉验证\n",
    "grid= GridSearchCV(lr_penalty, tuned_parameters,cv=5, scoring='neg_log_loss')\n",
    "#lr_penalty 逻辑归回对象\n",
    "#tuned_parameters  正则番薯和网格的搜索范围\n",
    "#cv=5  交叉验证的次数\n",
    "#scoring='neg_log_loss'  评分的标准  负log似然损失函数\n",
    "\n",
    "#训练数据  \n",
    "grid.fit(X_train,y_train)"
   ]
  },
  {
   "cell_type": "code",
   "execution_count": 394,
   "metadata": {},
   "outputs": [
    {
     "data": {
      "text/plain": [
       "{'mean_fit_time': array([0.00131693, 0.00098424, 0.00105639, 0.00090761, 0.00156565,\n",
       "        0.00117602, 0.00106664, 0.00101438, 0.00094018, 0.00103345,\n",
       "        0.0008781 , 0.00091152, 0.00087709, 0.00172863, 0.00114794,\n",
       "        0.00090818]),\n",
       " 'mean_score_time': array([0.00066986, 0.00063825, 0.00055819, 0.00049157, 0.00097613,\n",
       "        0.00101638, 0.00062556, 0.00060425, 0.00064878, 0.00062857,\n",
       "        0.00055494, 0.00068974, 0.00054436, 0.00064178, 0.00076284,\n",
       "        0.00059581]),\n",
       " 'mean_test_score': array([-0.48302493, -0.48235676, -0.48180988, -0.48135868, -0.4809838 ,\n",
       "        -0.48067073, -0.48040796, -0.48018673, -0.47999943, -0.47984059,\n",
       "        -0.47970595, -0.47959154, -0.47941162, -0.47934145, -0.47928202,\n",
       "        -0.47923182]),\n",
       " 'mean_train_score': array([-0.47170286, -0.47071889, -0.46988304, -0.46916625, -0.4685464 ,\n",
       "        -0.46800636, -0.46753272, -0.4671148 , -0.46674403, -0.4664134 ,\n",
       "        -0.4661173 , -0.46585098, -0.46539259, -0.46519447, -0.46501378,\n",
       "        -0.46484851]),\n",
       " 'param_C': masked_array(data=[0.06, 0.065, 0.06999999999999999, 0.07500000000000001,\n",
       "                    0.08000000000000002, 0.085, 0.09000000000000001, 0.095,\n",
       "                    0.1, 0.10500000000000001, 0.11000000000000001,\n",
       "                    0.11499999999999999, 0.125, 0.13, 0.135,\n",
       "                    0.13999999999999999],\n",
       "              mask=[False, False, False, False, False, False, False, False,\n",
       "                    False, False, False, False, False, False, False, False],\n",
       "        fill_value='?',\n",
       "             dtype=object),\n",
       " 'param_penalty': masked_array(data=['l2', 'l2', 'l2', 'l2', 'l2', 'l2', 'l2', 'l2', 'l2',\n",
       "                    'l2', 'l2', 'l2', 'l2', 'l2', 'l2', 'l2'],\n",
       "              mask=[False, False, False, False, False, False, False, False,\n",
       "                    False, False, False, False, False, False, False, False],\n",
       "        fill_value='?',\n",
       "             dtype=object),\n",
       " 'params': [{'C': 0.06, 'penalty': 'l2'},\n",
       "  {'C': 0.065, 'penalty': 'l2'},\n",
       "  {'C': 0.06999999999999999, 'penalty': 'l2'},\n",
       "  {'C': 0.07500000000000001, 'penalty': 'l2'},\n",
       "  {'C': 0.08000000000000002, 'penalty': 'l2'},\n",
       "  {'C': 0.085, 'penalty': 'l2'},\n",
       "  {'C': 0.09000000000000001, 'penalty': 'l2'},\n",
       "  {'C': 0.095, 'penalty': 'l2'},\n",
       "  {'C': 0.1, 'penalty': 'l2'},\n",
       "  {'C': 0.10500000000000001, 'penalty': 'l2'},\n",
       "  {'C': 0.11000000000000001, 'penalty': 'l2'},\n",
       "  {'C': 0.11499999999999999, 'penalty': 'l2'},\n",
       "  {'C': 0.125, 'penalty': 'l2'},\n",
       "  {'C': 0.13, 'penalty': 'l2'},\n",
       "  {'C': 0.135, 'penalty': 'l2'},\n",
       "  {'C': 0.13999999999999999, 'penalty': 'l2'}],\n",
       " 'rank_test_score': array([16, 15, 14, 13, 12, 11, 10,  9,  8,  7,  6,  5,  4,  3,  2,  1],\n",
       "       dtype=int32),\n",
       " 'split0_test_score': array([-0.47359335, -0.47248248, -0.47153041, -0.47070672, -0.46998814,\n",
       "        -0.4693566 , -0.46879787, -0.4683006 , -0.4678555 , -0.46745535,\n",
       "        -0.46709389, -0.46676602, -0.4661947 , -0.46594461, -0.46571465,\n",
       "        -0.46550258]),\n",
       " 'split0_train_score': array([-0.47544996, -0.47453293, -0.47375566, -0.47309049, -0.4725164 ,\n",
       "        -0.47201716, -0.47158005, -0.471195  , -0.47085398, -0.47055032,\n",
       "        -0.47027872, -0.47003476, -0.46961565, -0.46943483, -0.4692701 ,\n",
       "        -0.46911959]),\n",
       " 'split1_test_score': array([-0.4757314 , -0.47476911, -0.47394567, -0.47323417, -0.47261412,\n",
       "        -0.47206966, -0.47158831, -0.47116106, -0.47077815, -0.47043394,\n",
       "        -0.4701231 , -0.46984121, -0.46935007, -0.4691351 , -0.46893741,\n",
       "        -0.4687551 ]),\n",
       " 'split1_train_score': array([-0.47525497, -0.47435591, -0.47359534, -0.4729456 , -0.47238574,\n",
       "        -0.47189962, -0.4714746 , -0.47110074, -0.47076994, -0.47047578,\n",
       "        -0.47021296, -0.46997713, -0.46957256, -0.46939825, -0.46923959,\n",
       "        -0.46909473]),\n",
       " 'split2_test_score': array([-0.53731591, -0.53808225, -0.53884462, -0.53959402, -0.54032435,\n",
       "        -0.54103326, -0.54171841, -0.54237894, -0.54301469, -0.5436259 ,\n",
       "        -0.54421314, -0.54477715, -0.54583896, -0.54633862, -0.54681869,\n",
       "        -0.54728012]),\n",
       " 'split2_train_score': array([-0.45397549, -0.45277176, -0.45174398, -0.4508584 , -0.4500892 ,\n",
       "        -0.44941627, -0.44882378, -0.4482991 , -0.44783203, -0.44741424,\n",
       "        -0.44703891, -0.44670035, -0.44611534, -0.44586153, -0.44562952,\n",
       "        -0.44541683]),\n",
       " 'split3_test_score': array([-0.4519982 , -0.45098847, -0.45014029, -0.44942109, -0.4488062 ,\n",
       "        -0.4482766 , -0.44781746, -0.44741704, -0.44706595, -0.4467557 ,\n",
       "        -0.44648187, -0.44623853, -0.44582719, -0.44565274, -0.44549562,\n",
       "        -0.44535372]),\n",
       " 'split3_train_score': array([-0.48002364, -0.47904733, -0.47821755, -0.47750564, -0.47688977,\n",
       "        -0.47635304, -0.47588217, -0.47546659, -0.47509784, -0.47476887,\n",
       "        -0.47447429, -0.4742093 , -0.47375316, -0.47355599, -0.47337615,\n",
       "        -0.47321166]),\n",
       " 'split4_test_score': array([-0.47625516, -0.47522881, -0.47435389, -0.47360128, -0.47294867,\n",
       "        -0.47237876, -0.47187786, -0.47143508, -0.47104103, -0.47068937,\n",
       "        -0.47037432, -0.47009066, -0.46960182, -0.46939033, -0.46919734,\n",
       "        -0.46902075]),\n",
       " 'split4_train_score': array([-0.47381022, -0.47288649, -0.47210266, -0.47143112, -0.47085088,\n",
       "        -0.47034573, -0.46990299, -0.46951258, -0.46916638, -0.46885781,\n",
       "        -0.46858163, -0.46833333, -0.46790624, -0.46772175, -0.46755354,\n",
       "        -0.46739975]),\n",
       " 'std_fit_time': array([4.18136370e-04, 2.66130734e-04, 2.65745519e-04, 1.87953482e-04,\n",
       "        3.89264617e-04, 3.22325998e-04, 1.44668763e-04, 1.66234119e-04,\n",
       "        1.52402751e-04, 1.66120211e-04, 4.20212323e-05, 4.64416872e-05,\n",
       "        4.60574836e-05, 1.14838485e-03, 1.97834352e-04, 8.55907955e-05]),\n",
       " 'std_score_time': array([1.32283738e-04, 1.84853352e-04, 8.07825196e-05, 2.38777844e-05,\n",
       "        2.53628488e-04, 4.64530271e-04, 3.90550883e-05, 1.23156487e-04,\n",
       "        1.84088875e-04, 1.78617026e-04, 1.11687702e-04, 1.90603390e-04,\n",
       "        2.92831596e-05, 1.92225911e-04, 1.84467005e-04, 4.94321698e-05]),\n",
       " 'std_test_score': array([0.02862633, 0.02930715, 0.02992846, 0.03049825, 0.03102284,\n",
       "        0.03150803, 0.03195818, 0.03237708, 0.03276814, 0.03313425,\n",
       "        0.0334775 , 0.03380019, 0.03439111, 0.03466241, 0.03491937,\n",
       "        0.03516311]),\n",
       " 'std_train_score': array([0.00910598, 0.00920799, 0.00929725, 0.00937588, 0.00944555,\n",
       "        0.00950763, 0.00956321, 0.0096132 , 0.00965834, 0.00969922,\n",
       "        0.00973642, 0.00977036, 0.00982992, 0.00985613, 0.00988031,\n",
       "        0.00990266])}"
      ]
     },
     "execution_count": 394,
     "metadata": {},
     "output_type": "execute_result"
    }
   ],
   "source": [
    "#拿到最好的交叉验证结果\n",
    "grid.cv_results_"
   ]
  },
  {
   "cell_type": "code",
   "execution_count": 395,
   "metadata": {},
   "outputs": [
    {
     "name": "stdout",
     "output_type": "stream",
     "text": [
      "0.47923181810244786\n",
      "{'penalty': 'l2', 'C': 0.13999999999999999}\n"
     ]
    }
   ],
   "source": [
    "#拿到最好的分数\n",
    "print(-grid.best_score_)\n",
    "#获取到最好的参数\n",
    "print(grid.best_params_)"
   ]
  },
  {
   "cell_type": "markdown",
   "metadata": {},
   "source": [
    "从上述查看  参数在0.139  就是0.14之间"
   ]
  },
  {
   "cell_type": "code",
   "execution_count": 396,
   "metadata": {},
   "outputs": [
    {
     "data": {
      "text/plain": [
       "GridSearchCV(cv=5, error_score='raise',\n",
       "       estimator=LogisticRegression(C=1.0, class_weight=None, dual=False, fit_intercept=True,\n",
       "          intercept_scaling=1, max_iter=100, multi_class='ovr', n_jobs=1,\n",
       "          penalty='l2', random_state=None, solver='liblinear', tol=0.0001,\n",
       "          verbose=0, warm_start=False),\n",
       "       fit_params=None, iid=True, n_jobs=1,\n",
       "       param_grid={'penalty': ['l2'], 'C': [0.12, 0.13, 0.13999999999999999, 0.15000000000000002, 0.16000000000000003, 0.17, 0.18000000000000002, 0.19, 0.2, 0.21000000000000002, 0.22000000000000003, 0.22999999999999998, 0.25, 0.26, 0.27, 0.27999999999999997]},\n",
       "       pre_dispatch='2*n_jobs', refit=True, return_train_score='warn',\n",
       "       scoring='neg_log_loss', verbose=0)"
      ]
     },
     "execution_count": 396,
     "metadata": {},
     "output_type": "execute_result"
    }
   ],
   "source": [
    "#定义正则函数\n",
    "penaltys = ['l2']\n",
    "#定义网格的搜索范围\n",
    "Cs = [0.2 * .6, 0.2 * .65, 0.2 * .7, 0.2 * .75, 0.2 * .8, 0.2 * .85, \n",
    "                          0.2 * .9, 0.2 * .95, 0.2, 0.2 * 1.05, 0.2 * 1.1, 0.2 * 1.15,\n",
    "                          0.2 * 1.25, 0.2 * 1.3, 0.2 * 1.35, 0.2 * 1.4]\n",
    "#把正则函数和网格的搜索范围变为以个字典\n",
    "tuned_parameters = dict(penalty = penaltys, C = Cs)\n",
    "#实例化逻辑回归对象\n",
    "lr_penalty= LogisticRegression()\n",
    "#进行交叉验证\n",
    "grid= GridSearchCV(lr_penalty, tuned_parameters,cv=5, scoring='neg_log_loss')\n",
    "#lr_penalty 逻辑归回对象\n",
    "#tuned_parameters  正则番薯和网格的搜索范围\n",
    "#cv=5  交叉验证的次数\n",
    "#scoring='neg_log_loss'  评分的标准  负log似然损失函数\n",
    "\n",
    "#训练数据  \n",
    "grid.fit(X_train,y_train)"
   ]
  },
  {
   "cell_type": "code",
   "execution_count": 397,
   "metadata": {},
   "outputs": [
    {
     "data": {
      "text/plain": [
       "{'mean_fit_time': array([0.00115099, 0.00090175, 0.00109015, 0.00100102, 0.00089707,\n",
       "        0.00102563, 0.00088396, 0.00088024, 0.00095239, 0.00132332,\n",
       "        0.00094528, 0.00090876, 0.00091195, 0.00089517, 0.00084224,\n",
       "        0.00098357]),\n",
       " 'mean_score_time': array([0.00076666, 0.00060806, 0.00064764, 0.00058298, 0.00050278,\n",
       "        0.00055766, 0.00052781, 0.00051298, 0.00070124, 0.00106015,\n",
       "        0.00056777, 0.00059662, 0.00052047, 0.00052857, 0.00063963,\n",
       "        0.00053616]),\n",
       " 'mean_test_score': array([-0.47949428, -0.47934145, -0.47923182, -0.47915431, -0.47910097,\n",
       "        -0.47906599, -0.47904549, -0.47903547, -0.47903368, -0.47903834,\n",
       "        -0.47904828, -0.47906178, -0.47909649, -0.47911689, -0.47913876,\n",
       "        -0.47916132]),\n",
       " 'mean_train_score': array([-0.4656105 , -0.46519447, -0.46484851, -0.46455756, -0.46431044,\n",
       "        -0.46409868, -0.46391572, -0.46375667, -0.46361741, -0.4634948 ,\n",
       "        -0.46338622, -0.46328966, -0.46312598, -0.46305624, -0.46299319,\n",
       "        -0.462936  ]),\n",
       " 'param_C': masked_array(data=[0.12, 0.13, 0.13999999999999999, 0.15000000000000002,\n",
       "                    0.16000000000000003, 0.17, 0.18000000000000002, 0.19,\n",
       "                    0.2, 0.21000000000000002, 0.22000000000000003,\n",
       "                    0.22999999999999998, 0.25, 0.26, 0.27,\n",
       "                    0.27999999999999997],\n",
       "              mask=[False, False, False, False, False, False, False, False,\n",
       "                    False, False, False, False, False, False, False, False],\n",
       "        fill_value='?',\n",
       "             dtype=object),\n",
       " 'param_penalty': masked_array(data=['l2', 'l2', 'l2', 'l2', 'l2', 'l2', 'l2', 'l2', 'l2',\n",
       "                    'l2', 'l2', 'l2', 'l2', 'l2', 'l2', 'l2'],\n",
       "              mask=[False, False, False, False, False, False, False, False,\n",
       "                    False, False, False, False, False, False, False, False],\n",
       "        fill_value='?',\n",
       "             dtype=object),\n",
       " 'params': [{'C': 0.12, 'penalty': 'l2'},\n",
       "  {'C': 0.13, 'penalty': 'l2'},\n",
       "  {'C': 0.13999999999999999, 'penalty': 'l2'},\n",
       "  {'C': 0.15000000000000002, 'penalty': 'l2'},\n",
       "  {'C': 0.16000000000000003, 'penalty': 'l2'},\n",
       "  {'C': 0.17, 'penalty': 'l2'},\n",
       "  {'C': 0.18000000000000002, 'penalty': 'l2'},\n",
       "  {'C': 0.19, 'penalty': 'l2'},\n",
       "  {'C': 0.2, 'penalty': 'l2'},\n",
       "  {'C': 0.21000000000000002, 'penalty': 'l2'},\n",
       "  {'C': 0.22000000000000003, 'penalty': 'l2'},\n",
       "  {'C': 0.22999999999999998, 'penalty': 'l2'},\n",
       "  {'C': 0.25, 'penalty': 'l2'},\n",
       "  {'C': 0.26, 'penalty': 'l2'},\n",
       "  {'C': 0.27, 'penalty': 'l2'},\n",
       "  {'C': 0.27999999999999997, 'penalty': 'l2'}],\n",
       " 'rank_test_score': array([16, 15, 14, 12,  9,  7,  4,  2,  1,  3,  5,  6,  8, 10, 11, 13],\n",
       "       dtype=int32),\n",
       " 'split0_test_score': array([-0.46646749, -0.46594461, -0.46550258, -0.46512473, -0.46479859,\n",
       "        -0.46451466, -0.46426556, -0.46404552, -0.46384993, -0.4636751 ,\n",
       "        -0.46351801, -0.46337621, -0.46313061, -0.46302369, -0.46292672,\n",
       "        -0.4628366 ]),\n",
       " 'split0_train_score': array([-0.46981476, -0.46943483, -0.46911959, -0.46885502, -0.46863072,\n",
       "        -0.46843886, -0.46827342, -0.46812974, -0.46800414, -0.46789369,\n",
       "        -0.46779604, -0.46770927, -0.46756239, -0.46749991, -0.46744349,\n",
       "        -0.46739235]),\n",
       " 'split1_test_score': array([-0.46958456, -0.4691351 , -0.4687551 , -0.46843022, -0.46814971,\n",
       "        -0.4679054 , -0.46769097, -0.46750144, -0.46733288, -0.46718211,\n",
       "        -0.46704656, -0.46692411, -0.46671183, -0.46661932, -0.46653445,\n",
       "        -0.46645635]),\n",
       " 'split1_train_score': array([-0.46976468, -0.46939825, -0.46909473, -0.46884038, -0.46862503,\n",
       "        -0.46844106, -0.46828261, -0.46814514, -0.46802508, -0.4679196 ,\n",
       "        -0.46782642, -0.46774369, -0.46760379, -0.46754433, -0.46749067,\n",
       "        -0.46744206]),\n",
       " 'split2_test_score': array([-0.54531879, -0.54633862, -0.54728012, -0.5481506 , -0.54895688,\n",
       "        -0.54970518, -0.5504011 , -0.55104961, -0.55165519, -0.55222177,\n",
       "        -0.55275432, -0.55325311, -0.55416456, -0.55458193, -0.55497646,\n",
       "        -0.55534996]),\n",
       " 'split2_train_score': array([-0.44639382, -0.44586153, -0.44541683, -0.44504125, -0.444721  ,\n",
       "        -0.44444561, -0.44420698, -0.4439988 , -0.44381605, -0.44365471,\n",
       "        -0.44351142, -0.44338376, -0.44316666, -0.4430739 , -0.44298989,\n",
       "        -0.44291356]),\n",
       " 'split3_test_score': array([-0.44602148, -0.44565274, -0.44535372, -0.44510862, -0.44490583,\n",
       "        -0.44473666, -0.4445968 , -0.44447675, -0.44437467, -0.44428743,\n",
       "        -0.44421255, -0.44414802, -0.4440415 , -0.4439993 , -0.4439625 ,\n",
       "        -0.44393034]),\n",
       " 'split3_train_score': array([-0.47397002, -0.47355599, -0.47321166, -0.47292206, -0.47267607,\n",
       "        -0.47246528, -0.47228286, -0.47212449, -0.47198585, -0.47186379,\n",
       "        -0.47175575, -0.47165964, -0.47149684, -0.47142744, -0.47136469,\n",
       "        -0.47130778]),\n",
       " 'split4_test_score': array([-0.4698343 , -0.46939033, -0.46902075, -0.46870974, -0.46844549,\n",
       "        -0.46821905, -0.46802352, -0.46785402, -0.46770531, -0.46757448,\n",
       "        -0.46745877, -0.46735594, -0.46718191, -0.46710792, -0.46704112,\n",
       "        -0.46698063]),\n",
       " 'split4_train_score': array([-0.46810923, -0.46772175, -0.46739975, -0.46712911, -0.46689936,\n",
       "        -0.46670259, -0.46653273, -0.46638519, -0.46625594, -0.46614218,\n",
       "        -0.4660415 , -0.46595197, -0.46580023, -0.46573561, -0.4656772 ,\n",
       "        -0.46562423]),\n",
       " 'std_fit_time': array([2.25366256e-04, 1.15237878e-04, 1.90071299e-04, 2.23064942e-04,\n",
       "        8.20440699e-05, 3.41657082e-04, 3.15875736e-05, 6.98367048e-05,\n",
       "        5.18965782e-05, 2.64862014e-04, 1.45860847e-04, 1.08363655e-04,\n",
       "        6.21406823e-05, 8.19103814e-05, 4.17665802e-05, 3.27085391e-04]),\n",
       " 'std_score_time': array([2.43772316e-04, 1.21743689e-04, 1.89511704e-04, 7.79829816e-05,\n",
       "        5.36884337e-05, 5.37228537e-05, 1.40496328e-05, 3.18267282e-05,\n",
       "        1.70309212e-04, 8.32803320e-04, 4.92290433e-05, 2.11035844e-04,\n",
       "        2.67900169e-05, 4.11883535e-05, 1.32625670e-04, 9.95874605e-05]),\n",
       " 'std_test_score': array([0.03410419, 0.03466241, 0.03516311, 0.03561495, 0.0360249 ,\n",
       "        0.03639865, 0.03674045, 0.03705499, 0.0373452 , 0.03761381,\n",
       "        0.03786374, 0.0380959 , 0.03851572, 0.03870581, 0.03888434,\n",
       "        0.03905248]),\n",
       " 'std_train_score': array([0.00980142, 0.00985613, 0.00990266, 0.00994258, 0.0099771 ,\n",
       "        0.01000717, 0.01003346, 0.01005669, 0.01007728, 0.01009561,\n",
       "        0.01011206, 0.0101268 , 0.01015214, 0.01016306, 0.01017301,\n",
       "        0.01018209])}"
      ]
     },
     "execution_count": 397,
     "metadata": {},
     "output_type": "execute_result"
    }
   ],
   "source": [
    "#拿到最好的交叉验证结果\n",
    "grid.cv_results_"
   ]
  },
  {
   "cell_type": "code",
   "execution_count": 398,
   "metadata": {},
   "outputs": [
    {
     "name": "stdout",
     "output_type": "stream",
     "text": [
      "0.4790336837209894\n",
      "{'penalty': 'l2', 'C': 0.2}\n"
     ]
    }
   ],
   "source": [
    "#拿到最好的分数\n",
    "print(-grid.best_score_)\n",
    "#获取到最好的参数\n",
    "print(grid.best_params_)"
   ]
  },
  {
   "cell_type": "markdown",
   "metadata": {},
   "source": [
    "已经符合  但是分数相对低"
   ]
  },
  {
   "cell_type": "markdown",
   "metadata": {},
   "source": [
    "### 线性SVM正则参数调优"
   ]
  },
  {
   "cell_type": "markdown",
   "metadata": {},
   "source": [
    "线性SVM LinearSVC的需要调整正则超参数包括C（正则系数，一般在log域（取log后的值）均匀设置候选参数）和正则函数penalty（L2/L1） \n",
    "\n",
    "采用交叉验证，网格搜索步骤与Logistic回归正则参数处理类似，在此略。\n",
    "\n",
    "这里我们用校验集（X_val、y_val）来估计模型性能"
   ]
  },
  {
   "cell_type": "code",
   "execution_count": 399,
   "metadata": {},
   "outputs": [],
   "source": [
    "from sklearn.svm import LinearSVC\n",
    "#定义一个校验的方法\n",
    "def fit_grid_point_Linear(C, X_train, y_train, X_val, y_val):\n",
    "    \n",
    "    # 在训练集是那个利用SVC训练\n",
    "    SVC2 =  LinearSVC( C = C)\n",
    "    #训练\n",
    "    SVC2 = SVC2.fit(X_train, y_train)\n",
    "    \n",
    "    # 在校验集上返回accuracy\n",
    "    accuracy = SVC2.score(X_val, y_val)\n",
    "    #输出分数\n",
    "    print(\"accuracy: {}\".format(accuracy))\n",
    "    return accuracy"
   ]
  },
  {
   "cell_type": "code",
   "execution_count": 400,
   "metadata": {},
   "outputs": [
    {
     "name": "stdout",
     "output_type": "stream",
     "text": [
      "accuracy: 0.720779220779\n",
      "accuracy: 0.733766233766\n",
      "accuracy: 0.74025974026\n",
      "accuracy: 0.746753246753\n",
      "accuracy: 0.74025974026\n",
      "accuracy: 0.753246753247\n",
      "accuracy: 0.506493506494\n"
     ]
    }
   ],
   "source": [
    "#需要调优的参数\n",
    "C_s = np.logspace(-3, 3, 7)# logspace(a,b,N)把10的a次方到10的b次方区间分成N份  \n",
    "#penalty_s = ['l1','l2']\n",
    "\n",
    "#定义一个列表\n",
    "accuracy_s = []\n",
    "for i, oneC in enumerate(C_s):\n",
    "#    for j, penalty in enumerate(penalty_s):\n",
    "    #调用训练的方法\n",
    "    tmp = fit_grid_point_Linear(oneC, X_train, y_train, X_test, y_test)\n",
    "    #oneC   传进去10的多少次方\n",
    "    #X_train  x轴的训练集\n",
    "    #y_train  y轴的结果集\n",
    "    #X_val   结果的测试集\n",
    "    #y_val  y的结果集\n",
    "    accuracy_s.append(tmp)"
   ]
  },
  {
   "cell_type": "markdown",
   "metadata": {},
   "source": [
    "参数越大  分数越低   要相对调小分数"
   ]
  },
  {
   "cell_type": "code",
   "execution_count": 401,
   "metadata": {},
   "outputs": [
    {
     "name": "stdout",
     "output_type": "stream",
     "text": [
      "accuracy: 0.733766233766\n",
      "accuracy: 0.74025974026\n",
      "accuracy: 0.746753246753\n",
      "accuracy: 0.74025974026\n",
      "accuracy: 0.746753246753\n"
     ]
    }
   ],
   "source": [
    "#需要调优的参数\n",
    "C_s = np.logspace(-2, 2, 5)# logspace(a,b,N)把10的a次方到10的b次方区间分成N份  \n",
    "#penalty_s = ['l1','l2']\n",
    "\n",
    "#定义一个列表\n",
    "accuracy_s = []\n",
    "for i, oneC in enumerate(C_s):\n",
    "#    for j, penalty in enumerate(penalty_s):\n",
    "    #调用训练的方法\n",
    "    tmp = fit_grid_point_Linear(oneC, X_train, y_train, X_test, y_test)\n",
    "    #oneC   传进去10的多少次方\n",
    "    #X_train  x轴的训练集\n",
    "    #y_train  y轴的结果集\n",
    "    #X_val   结果的测试集\n",
    "    #y_val  y的结果集\n",
    "    accuracy_s.append(tmp)"
   ]
  },
  {
   "cell_type": "code",
   "execution_count": 402,
   "metadata": {},
   "outputs": [
    {
     "name": "stdout",
     "output_type": "stream",
     "text": [
      "accuracy: 0.714285714286\n",
      "accuracy: 0.720779220779\n",
      "accuracy: 0.733766233766\n",
      "accuracy: 0.74025974026\n",
      "accuracy: 0.746753246753\n"
     ]
    }
   ],
   "source": [
    "#需要调优的参数\n",
    "C_s = np.logspace(-4,0 ,5)# logspace(a,b,N)把10的a次方到10的b次方区间分成N份  \n",
    "#penalty_s = ['l1','l2']\n",
    "\n",
    "#定义一个列表\n",
    "accuracy_s = []\n",
    "for i, oneC in enumerate(C_s):\n",
    "#    for j, penalty in enumerate(penalty_s):\n",
    "    #调用训练的方法\n",
    "    tmp = fit_grid_point_Linear(oneC, X_train, y_train, X_test, y_test)\n",
    "    #oneC   传进去10的多少次方\n",
    "    #X_train  x轴的训练集\n",
    "    #y_train  y轴的结果集\n",
    "    #X_val   结果的测试集\n",
    "    #y_val  y的结果集\n",
    "    accuracy_s.append(tmp)"
   ]
  },
  {
   "cell_type": "markdown",
   "metadata": {},
   "source": [
    "目前 0已经是最好的分数了  0.746753246753\n",
    "\n",
    "svm的性能相对来说比logstic性能稍微好一些  svm省了调整正则函数的一项  直接调整正则参数即可"
   ]
  },
  {
   "cell_type": "markdown",
   "metadata": {},
   "source": [
    "### RBF核SVM正则参数调优\n",
    "\n",
    "RBF核是SVM最常用的核函数。\n",
    "RBF核SVM 的需要调整正则超参数包括C（正则系数，一般在log域（取log后的值）均匀设置候选参数）和核函数的宽度gamma\n",
    "C越小，决策边界越平滑； \n",
    "gamma越小，决策边界越平滑。\n",
    "\n",
    "采用交叉验证，网格搜索步骤与Logistic回归正则参数处理类似，在此略。\n",
    "\n",
    "这里我们用校验集（X_test、y_test）来估计模型性能"
   ]
  },
  {
   "cell_type": "code",
   "execution_count": 403,
   "metadata": {},
   "outputs": [],
   "source": [
    "from sklearn.svm import SVC\n",
    "def fit_grid_point_RBF(C, gamma, X_train, y_train, X_val, y_val):\n",
    "    \n",
    "    # 在训练集是那个利用SVC训练\n",
    "    SVC3 =  SVC( C = C, kernel='rbf', gamma = gamma)\n",
    "    # C = C  惩罚参数\n",
    "    # kernel='rbf'  核函数\n",
    "    # gamma = gamma  单个训练样本影响的范围\n",
    "    \n",
    "    #训练\n",
    "    SVC3 = SVC3.fit(X_train, y_train)\n",
    "    \n",
    "    # 在校验集上返回accuracy\n",
    "    accuracy = SVC3.score(X_val, y_val)\n",
    "    #输出各个分数\n",
    "    print(\"accuracy: {}\".format(accuracy))\n",
    "    return accuracy"
   ]
  },
  {
   "cell_type": "code",
   "execution_count": 404,
   "metadata": {},
   "outputs": [
    {
     "name": "stdout",
     "output_type": "stream",
     "text": [
      "accuracy: 0.642857142857\n",
      "accuracy: 0.642857142857\n",
      "accuracy: 0.642857142857\n",
      "accuracy: 0.642857142857\n",
      "accuracy: 0.642857142857\n",
      "accuracy: 0.642857142857\n",
      "accuracy: 0.701298701299\n",
      "accuracy: 0.642857142857\n",
      "accuracy: 0.642857142857\n",
      "accuracy: 0.642857142857\n",
      "accuracy: 0.733766233766\n",
      "accuracy: 0.74025974026\n",
      "accuracy: 0.675324675325\n",
      "accuracy: 0.642857142857\n",
      "accuracy: 0.642857142857\n",
      "accuracy: 0.74025974026\n",
      "accuracy: 0.701298701299\n",
      "accuracy: 0.688311688312\n",
      "accuracy: 0.642857142857\n",
      "accuracy: 0.642857142857\n",
      "accuracy: 0.753246753247\n",
      "accuracy: 0.681818181818\n",
      "accuracy: 0.688311688312\n",
      "accuracy: 0.642857142857\n",
      "accuracy: 0.642857142857\n"
     ]
    }
   ],
   "source": [
    "#需要调优的参数\n",
    "C_s = np.logspace(-2, 2, 5)# logspace(a,b,N)把10的a次方到10的b次方区间分成N份 \n",
    "\n",
    "#设置单个样本影响的范围\n",
    "gamma_s = np.logspace(-2, 2, 5)  \n",
    "\n",
    "#定义一个列表\n",
    "accuracy_s = []\n",
    "#循环放入参数\n",
    "for i, oneC in enumerate(C_s):\n",
    "    #每一次放入样本的影响范围\n",
    "    for j, gamma in enumerate(gamma_s):\n",
    "        tmp = fit_grid_point_RBF(oneC, gamma, X_train, y_train, X_test, y_test)\n",
    "        #oneC  惩罚参数\n",
    "        #gamma  样本的影响范围\n",
    "        #X_train  x轴的训练集\n",
    "        #y_train  y轴的结果集\n",
    "        #X_val  x轴的测试集\n",
    "        #y_val  y轴的结果集\n",
    "        #把结果放到列表中\n",
    "        accuracy_s.append(tmp)\n",
    "\n"
   ]
  },
  {
   "cell_type": "markdown",
   "metadata": {},
   "source": [
    "调整gamma_s"
   ]
  },
  {
   "cell_type": "code",
   "execution_count": 405,
   "metadata": {},
   "outputs": [
    {
     "name": "stdout",
     "output_type": "stream",
     "text": [
      "accuracy: 0.642857142857\n",
      "accuracy: 0.642857142857\n",
      "accuracy: 0.642857142857\n",
      "accuracy: 0.642857142857\n",
      "accuracy: 0.642857142857\n",
      "accuracy: 0.642857142857\n",
      "accuracy: 0.642857142857\n",
      "accuracy: 0.642857142857\n",
      "accuracy: 0.642857142857\n",
      "accuracy: 0.642857142857\n",
      "accuracy: 0.701298701299\n",
      "accuracy: 0.642857142857\n",
      "accuracy: 0.642857142857\n",
      "accuracy: 0.642857142857\n",
      "accuracy: 0.642857142857\n",
      "accuracy: 0.655844155844\n",
      "accuracy: 0.733766233766\n",
      "accuracy: 0.74025974026\n",
      "accuracy: 0.675324675325\n",
      "accuracy: 0.642857142857\n",
      "accuracy: 0.642857142857\n",
      "accuracy: 0.655844155844\n",
      "accuracy: 0.727272727273\n",
      "accuracy: 0.74025974026\n",
      "accuracy: 0.701298701299\n",
      "accuracy: 0.688311688312\n",
      "accuracy: 0.642857142857\n",
      "accuracy: 0.642857142857\n",
      "accuracy: 0.727272727273\n",
      "accuracy: 0.753246753247\n",
      "accuracy: 0.753246753247\n",
      "accuracy: 0.681818181818\n",
      "accuracy: 0.688311688312\n",
      "accuracy: 0.642857142857\n",
      "accuracy: 0.642857142857\n"
     ]
    }
   ],
   "source": [
    "#需要调优的参数\n",
    "C_s = np.logspace(-4, 2, 5)# logspace(a,b,N)把10的a次方到10的b次方区间分成N份 \n",
    "\n",
    "#设置单个样本影响的范围\n",
    "gamma_s = np.logspace(-4, 2, 7)  \n",
    "\n",
    "#定义一个列表\n",
    "accuracy_s = []\n",
    "#循环放入参数\n",
    "for i, oneC in enumerate(C_s):\n",
    "    #每一次放入样本的影响范围\n",
    "    for j, gamma in enumerate(gamma_s):\n",
    "        tmp = fit_grid_point_RBF(oneC, gamma, X_train, y_train, X_test, y_test)\n",
    "        #oneC  惩罚参数\n",
    "        #gamma  样本的影响范围\n",
    "        #X_train  x轴的训练集\n",
    "        #y_train  y轴的结果集\n",
    "        #X_val  x轴的测试集\n",
    "        #y_val  y轴的结果集\n",
    "        #把结果放到列表中\n",
    "        accuracy_s.append(tmp)\n"
   ]
  },
  {
   "cell_type": "code",
   "execution_count": 406,
   "metadata": {},
   "outputs": [
    {
     "name": "stdout",
     "output_type": "stream",
     "text": [
      "accuracy: 0.642857142857\n",
      "accuracy: 0.642857142857\n",
      "accuracy: 0.642857142857\n",
      "accuracy: 0.642857142857\n",
      "accuracy: 0.642857142857\n",
      "accuracy: 0.642857142857\n",
      "accuracy: 0.642857142857\n",
      "accuracy: 0.642857142857\n",
      "accuracy: 0.642857142857\n",
      "accuracy: 0.642857142857\n",
      "accuracy: 0.642857142857\n",
      "accuracy: 0.642857142857\n",
      "accuracy: 0.642857142857\n",
      "accuracy: 0.642857142857\n",
      "accuracy: 0.642857142857\n",
      "accuracy: 0.642857142857\n",
      "accuracy: 0.642857142857\n",
      "accuracy: 0.642857142857\n",
      "accuracy: 0.642857142857\n",
      "accuracy: 0.642857142857\n",
      "accuracy: 0.642857142857\n",
      "accuracy: 0.701298701299\n",
      "accuracy: 0.642857142857\n",
      "accuracy: 0.642857142857\n",
      "accuracy: 0.642857142857\n",
      "accuracy: 0.642857142857\n",
      "accuracy: 0.642857142857\n",
      "accuracy: 0.642857142857\n",
      "accuracy: 0.733766233766\n",
      "accuracy: 0.74025974026\n",
      "accuracy: 0.707792207792\n",
      "accuracy: 0.714285714286\n",
      "accuracy: 0.642857142857\n",
      "accuracy: 0.642857142857\n",
      "accuracy: 0.642857142857\n",
      "accuracy: 0.642857142857\n",
      "accuracy: 0.727272727273\n",
      "accuracy: 0.753246753247\n",
      "accuracy: 0.753246753247\n",
      "accuracy: 0.681818181818\n",
      "accuracy: 0.688311688312\n",
      "accuracy: 0.642857142857\n",
      "accuracy: 0.642857142857\n",
      "accuracy: 0.642857142857\n",
      "accuracy: 0.642857142857\n"
     ]
    }
   ],
   "source": [
    "#需要调优的参数\n",
    "C_s = np.logspace(-4, 2, 5)# logspace(a,b,N)把10的a次方到10的b次方区间分成N份 \n",
    "\n",
    "#设置单个样本影响的范围\n",
    "gamma_s = np.logspace(-4, 4, 9)  \n",
    "\n",
    "#定义一个列表\n",
    "accuracy_s = []\n",
    "#循环放入参数\n",
    "for i, oneC in enumerate(C_s):\n",
    "    #每一次放入样本的影响范围\n",
    "    for j, gamma in enumerate(gamma_s):\n",
    "        tmp = fit_grid_point_RBF(oneC, gamma, X_train, y_train, X_test, y_test)\n",
    "        #oneC  惩罚参数\n",
    "        #gamma  样本的影响范围\n",
    "        #X_train  x轴的训练集\n",
    "        #y_train  y轴的结果集\n",
    "        #X_val  x轴的测试集\n",
    "        #y_val  y轴的结果集\n",
    "        #把结果放到列表中\n",
    "        accuracy_s.append(tmp)\n"
   ]
  },
  {
   "cell_type": "code",
   "execution_count": 407,
   "metadata": {},
   "outputs": [
    {
     "name": "stdout",
     "output_type": "stream",
     "text": [
      "accuracy: 0.642857142857\n",
      "accuracy: 0.642857142857\n",
      "accuracy: 0.642857142857\n",
      "accuracy: 0.642857142857\n",
      "accuracy: 0.642857142857\n",
      "accuracy: 0.642857142857\n",
      "accuracy: 0.701298701299\n",
      "accuracy: 0.642857142857\n",
      "accuracy: 0.642857142857\n",
      "accuracy: 0.707792207792\n",
      "accuracy: 0.714285714286\n",
      "accuracy: 0.642857142857\n",
      "accuracy: 0.681818181818\n",
      "accuracy: 0.688311688312\n",
      "accuracy: 0.642857142857\n"
     ]
    }
   ],
   "source": [
    "#需要调优的参数\n",
    "C_s = np.logspace(-4, 2, 5)# logspace(a,b,N)把10的a次方到10的b次方区间分成N份 \n",
    "\n",
    "#设置单个样本影响的范围\n",
    "gamma_s = np.logspace(-1, 1, 3)  \n",
    "\n",
    "#定义一个列表\n",
    "accuracy_s = []\n",
    "#循环放入参数\n",
    "for i, oneC in enumerate(C_s):\n",
    "    #每一次放入样本的影响范围\n",
    "    for j, gamma in enumerate(gamma_s):\n",
    "        tmp = fit_grid_point_RBF(oneC, gamma, X_train, y_train, X_test, y_test)\n",
    "        #oneC  惩罚参数\n",
    "        #gamma  样本的影响范围\n",
    "        #X_train  x轴的训练集\n",
    "        #y_train  y轴的结果集\n",
    "        #X_val  x轴的测试集\n",
    "        #y_val  y轴的结果集\n",
    "        #把结果放到列表中\n",
    "        accuracy_s.append(tmp)\n"
   ]
  },
  {
   "cell_type": "code",
   "execution_count": 408,
   "metadata": {},
   "outputs": [
    {
     "name": "stdout",
     "output_type": "stream",
     "text": [
      "accuracy: 0.642857142857\n",
      "accuracy: 0.642857142857\n",
      "accuracy: 0.642857142857\n",
      "accuracy: 0.642857142857\n",
      "accuracy: 0.642857142857\n",
      "accuracy: 0.642857142857\n",
      "accuracy: 0.642857142857\n",
      "accuracy: 0.642857142857\n",
      "accuracy: 0.642857142857\n",
      "accuracy: 0.642857142857\n",
      "accuracy: 0.642857142857\n",
      "accuracy: 0.642857142857\n",
      "accuracy: 0.642857142857\n",
      "accuracy: 0.642857142857\n",
      "accuracy: 0.642857142857\n",
      "accuracy: 0.642857142857\n",
      "accuracy: 0.642857142857\n",
      "accuracy: 0.642857142857\n",
      "accuracy: 0.642857142857\n",
      "accuracy: 0.642857142857\n",
      "accuracy: 0.642857142857\n",
      "accuracy: 0.642857142857\n",
      "accuracy: 0.642857142857\n",
      "accuracy: 0.642857142857\n",
      "accuracy: 0.642857142857\n",
      "accuracy: 0.642857142857\n",
      "accuracy: 0.642857142857\n",
      "accuracy: 0.642857142857\n",
      "accuracy: 0.642857142857\n",
      "accuracy: 0.642857142857\n",
      "accuracy: 0.642857142857\n",
      "accuracy: 0.701298701299\n",
      "accuracy: 0.642857142857\n",
      "accuracy: 0.642857142857\n",
      "accuracy: 0.642857142857\n",
      "accuracy: 0.642857142857\n",
      "accuracy: 0.642857142857\n",
      "accuracy: 0.642857142857\n",
      "accuracy: 0.642857142857\n",
      "accuracy: 0.642857142857\n",
      "accuracy: 0.642857142857\n",
      "accuracy: 0.642857142857\n",
      "accuracy: 0.733766233766\n",
      "accuracy: 0.74025974026\n",
      "accuracy: 0.707792207792\n",
      "accuracy: 0.714285714286\n",
      "accuracy: 0.642857142857\n",
      "accuracy: 0.642857142857\n",
      "accuracy: 0.642857142857\n",
      "accuracy: 0.642857142857\n",
      "accuracy: 0.642857142857\n",
      "accuracy: 0.642857142857\n",
      "accuracy: 0.642857142857\n",
      "accuracy: 0.655844155844\n",
      "accuracy: 0.727272727273\n",
      "accuracy: 0.753246753247\n",
      "accuracy: 0.753246753247\n",
      "accuracy: 0.681818181818\n",
      "accuracy: 0.688311688312\n",
      "accuracy: 0.642857142857\n",
      "accuracy: 0.642857142857\n",
      "accuracy: 0.642857142857\n",
      "accuracy: 0.642857142857\n",
      "accuracy: 0.642857142857\n",
      "accuracy: 0.642857142857\n"
     ]
    }
   ],
   "source": [
    "#需要调优的参数\n",
    "C_s = np.logspace(-4, 2, 5)# logspace(a,b,N)把10的a次方到10的b次方区间分成N份 \n",
    "\n",
    "#设置单个样本影响的范围\n",
    "gamma_s = np.logspace(-6, 6, 13)  \n",
    "\n",
    "#定义一个列表\n",
    "accuracy_s = []\n",
    "#循环放入参数\n",
    "for i, oneC in enumerate(C_s):\n",
    "    #每一次放入样本的影响范围\n",
    "    for j, gamma in enumerate(gamma_s):\n",
    "        tmp = fit_grid_point_RBF(oneC, gamma, X_train, y_train, X_test, y_test)\n",
    "        #oneC  惩罚参数\n",
    "        #gamma  样本的影响范围\n",
    "        #X_train  x轴的训练集\n",
    "        #y_train  y轴的结果集\n",
    "        #X_val  x轴的测试集\n",
    "        #y_val  y轴的结果集\n",
    "        #把结果放到列表中\n",
    "        accuracy_s.append(tmp)\n"
   ]
  },
  {
   "cell_type": "code",
   "execution_count": 409,
   "metadata": {},
   "outputs": [
    {
     "name": "stdout",
     "output_type": "stream",
     "text": [
      "accuracy: 0.642857142857\n",
      "accuracy: 0.642857142857\n",
      "accuracy: 0.642857142857\n",
      "accuracy: 0.642857142857\n",
      "accuracy: 0.642857142857\n",
      "accuracy: 0.642857142857\n"
     ]
    }
   ],
   "source": [
    "#需要调优的参数\n",
    "C_s = np.logspace(-4, 2, 3)# logspace(a,b,N)把10的a次方到10的b次方区间分成N份 \n",
    "\n",
    "#设置单个样本影响的范围\n",
    "gamma_s = np.logspace(-6, 6, 2)  \n",
    "\n",
    "#定义一个列表\n",
    "accuracy_s = []\n",
    "#循环放入参数\n",
    "for i, oneC in enumerate(C_s):\n",
    "    #每一次放入样本的影响范围\n",
    "    for j, gamma in enumerate(gamma_s):\n",
    "        tmp = fit_grid_point_RBF(oneC, gamma, X_train, y_train, X_test, y_test)\n",
    "        #oneC  惩罚参数\n",
    "        #gamma  样本的影响范围\n",
    "        #X_train  x轴的训练集\n",
    "        #y_train  y轴的结果集\n",
    "        #X_val  x轴的测试集\n",
    "        #y_val  y轴的结果集\n",
    "        #把结果放到列表中\n",
    "        accuracy_s.append(tmp)\n"
   ]
  },
  {
   "cell_type": "code",
   "execution_count": 415,
   "metadata": {},
   "outputs": [
    {
     "name": "stdout",
     "output_type": "stream",
     "text": [
      "accuracy: 0.642857142857\n",
      "accuracy: 0.642857142857\n",
      "accuracy: 0.642857142857\n",
      "accuracy: 0.733766233766\n",
      "accuracy: 0.642857142857\n",
      "accuracy: 0.642857142857\n",
      "accuracy: 0.720779220779\n",
      "accuracy: 0.616883116883\n",
      "accuracy: 0.642857142857\n"
     ]
    }
   ],
   "source": [
    "#需要调优的参数\n",
    "C_s = np.logspace(-4, 3, 3)# logspace(a,b,N)把10的a次方到10的b次方区间分成N份 \n",
    "\n",
    "#设置单个样本影响的范围\n",
    "gamma_s = np.logspace(-2, 3, 3)  \n",
    "\n",
    "#定义一个列表\n",
    "accuracy_s = []\n",
    "#循环放入参数\n",
    "for i, oneC in enumerate(C_s):\n",
    "    #每一次放入样本的影响范围\n",
    "    for j, gamma in enumerate(gamma_s):\n",
    "        tmp = fit_grid_point_RBF(oneC, gamma, X_train, y_train, X_test, y_test)\n",
    "        #oneC  惩罚参数\n",
    "        #gamma  样本的影响范围\n",
    "        #X_train  x轴的训练集\n",
    "        #y_train  y轴的结果集\n",
    "        #X_val  x轴的测试集\n",
    "        #y_val  y轴的结果集\n",
    "        #把结果放到列表中\n",
    "        accuracy_s.append(tmp)\n"
   ]
  },
  {
   "cell_type": "markdown",
   "metadata": {},
   "source": [
    "这个调优  根据什么来调的呢?找了好久都招不出"
   ]
  }
 ],
 "metadata": {
  "kernelspec": {
   "display_name": "Python 2",
   "language": "python",
   "name": "python2"
  },
  "language_info": {
   "codemirror_mode": {
    "name": "ipython",
    "version": 2
   },
   "file_extension": ".py",
   "mimetype": "text/x-python",
   "name": "python",
   "nbconvert_exporter": "python",
   "pygments_lexer": "ipython2",
   "version": "2.7.14"
  }
 },
 "nbformat": 4,
 "nbformat_minor": 2
}
